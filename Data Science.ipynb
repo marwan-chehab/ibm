{
    "cells": [
        {
            "cell_type": "code",
            "execution_count": 1,
            "metadata": {},
            "outputs": [
                {
                    "data": {
                        "text/html": "<div>\n<style scoped>\n    .dataframe tbody tr th:only-of-type {\n        vertical-align: middle;\n    }\n\n    .dataframe tbody tr th {\n        vertical-align: top;\n    }\n\n    .dataframe thead th {\n        text-align: right;\n    }\n</style>\n<table border=\"1\" class=\"dataframe\">\n  <thead>\n    <tr style=\"text-align: right;\">\n      <th></th>\n      <th>date</th>\n      <th>type</th>\n      <th>item</th>\n      <th>amount</th>\n      <th>location</th>\n      <th>price</th>\n      <th>party</th>\n      <th>document</th>\n      <th>note</th>\n      <th>Unnamed: 9</th>\n      <th>Unnamed: 10</th>\n      <th>Unnamed: 11</th>\n      <th>Unnamed: 12</th>\n    </tr>\n  </thead>\n  <tbody>\n    <tr>\n      <th>0</th>\n      <td>20190926</td>\n      <td>inventory</td>\n      <td>Italpump Oil Burner Pump G4C6003</td>\n      <td>30</td>\n      <td>mountains</td>\n      <td>NaN</td>\n      <td>NaN</td>\n      <td>NaN</td>\n      <td>NaN</td>\n      <td>NaN</td>\n      <td>NaN</td>\n      <td>NaN</td>\n      <td>NaN</td>\n    </tr>\n    <tr>\n      <th>1</th>\n      <td>20190926</td>\n      <td>inventory</td>\n      <td>Italpump Oil Burner Pump GBE2L931F220</td>\n      <td>30</td>\n      <td>mountains</td>\n      <td>NaN</td>\n      <td>NaN</td>\n      <td>NaN</td>\n      <td>NaN</td>\n      <td>NaN</td>\n      <td>NaN</td>\n      <td>NaN</td>\n      <td>NaN</td>\n    </tr>\n    <tr>\n      <th>2</th>\n      <td>20190926</td>\n      <td>inventory</td>\n      <td>Italpump Oil Burner Pump GBE2R931F220</td>\n      <td>15</td>\n      <td>mountains</td>\n      <td>NaN</td>\n      <td>NaN</td>\n      <td>NaN</td>\n      <td>NaN</td>\n      <td>NaN</td>\n      <td>NaN</td>\n      <td>NaN</td>\n      <td>NaN</td>\n    </tr>\n    <tr>\n      <th>3</th>\n      <td>20190926</td>\n      <td>inventory</td>\n      <td>Italpump Oil Burner Pump GBE1L912F220</td>\n      <td>15</td>\n      <td>mountains</td>\n      <td>NaN</td>\n      <td>NaN</td>\n      <td>NaN</td>\n      <td>NaN</td>\n      <td>NaN</td>\n      <td>NaN</td>\n      <td>NaN</td>\n      <td>NaN</td>\n    </tr>\n    <tr>\n      <th>4</th>\n      <td>20190926</td>\n      <td>inventory</td>\n      <td>Italpump Oil Burner Pump GBE1R911F220</td>\n      <td>15</td>\n      <td>mountains</td>\n      <td>NaN</td>\n      <td>NaN</td>\n      <td>NaN</td>\n      <td>NaN</td>\n      <td>NaN</td>\n      <td>NaN</td>\n      <td>NaN</td>\n      <td>NaN</td>\n    </tr>\n  </tbody>\n</table>\n</div>",
                        "text/plain": "       date       type                                   item amount  \\\n0  20190926  inventory       Italpump Oil Burner Pump G4C6003     30   \n1  20190926  inventory  Italpump Oil Burner Pump GBE2L931F220     30   \n2  20190926  inventory  Italpump Oil Burner Pump GBE2R931F220     15   \n3  20190926  inventory  Italpump Oil Burner Pump GBE1L912F220     15   \n4  20190926  inventory  Italpump Oil Burner Pump GBE1R911F220     15   \n\n    location price party document note Unnamed: 9 Unnamed: 10 Unnamed: 11  \\\n0  mountains   NaN   NaN      NaN  NaN        NaN         NaN         NaN   \n1  mountains   NaN   NaN      NaN  NaN        NaN         NaN         NaN   \n2  mountains   NaN   NaN      NaN  NaN        NaN         NaN         NaN   \n3  mountains   NaN   NaN      NaN  NaN        NaN         NaN         NaN   \n4  mountains   NaN   NaN      NaN  NaN        NaN         NaN         NaN   \n\n  Unnamed: 12  \n0         NaN  \n1         NaN  \n2         NaN  \n3         NaN  \n4         NaN  "
                    },
                    "execution_count": 1,
                    "metadata": {},
                    "output_type": "execute_result"
                }
            ],
            "source": "# The code was removed by Watson Studio for sharing."
        },
        {
            "cell_type": "code",
            "execution_count": null,
            "metadata": {},
            "outputs": [],
            "source": ""
        }
    ],
    "metadata": {
        "kernelspec": {
            "display_name": "Python 3.10",
            "language": "python",
            "name": "python3"
        },
        "language_info": {
            "codemirror_mode": {
                "name": "ipython",
                "version": 3
            },
            "file_extension": ".py",
            "mimetype": "text/x-python",
            "name": "python",
            "nbconvert_exporter": "python",
            "pygments_lexer": "ipython3",
            "version": "3.10.13"
        }
    },
    "nbformat": 4,
    "nbformat_minor": 1
}